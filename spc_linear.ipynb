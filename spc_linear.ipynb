{
  "nbformat": 4,
  "nbformat_minor": 0,
  "metadata": {
    "colab": {
      "provenance": [],
      "authorship_tag": "ABX9TyN9lxFckBM/HpigNRiXd9WE",
      "include_colab_link": true
    },
    "kernelspec": {
      "name": "python3",
      "display_name": "Python 3"
    },
    "language_info": {
      "name": "python"
    }
  },
  "cells": [
    {
      "cell_type": "markdown",
      "metadata": {
        "id": "view-in-github",
        "colab_type": "text"
      },
      "source": [
        "<a href=\"https://colab.research.google.com/github/akash22ak/Sentiment-Polarity-Classification/blob/master/spc_linear.ipynb\" target=\"_parent\"><img src=\"https://colab.research.google.com/assets/colab-badge.svg\" alt=\"Open In Colab\"/></a>"
      ]
    },
    {
      "cell_type": "code",
      "execution_count": 1,
      "metadata": {
        "id": "9d27TyTrEVUg"
      },
      "outputs": [],
      "source": [
        "import numpy as np\n",
        "import pandas as pd\n",
        "from sklearn.feature_extraction.text import TfidfVectorizer\n",
        "from sklearn.metrics import classification_report"
      ]
    },
    {
      "cell_type": "code",
      "source": [
        "# SVM implementation from scratch with corrected label mapping\n",
        "class SVM:\n",
        "    def __init__(self, learning_rate=0.001, lambda_param=0.01, n_iters=1000):\n",
        "        self.learning_rate = learning_rate\n",
        "        self.lambda_param = lambda_param\n",
        "        self.n_iters = n_iters\n",
        "        self.w = None\n",
        "        self.b = None\n",
        "\n",
        "    def fit(self, X, y):\n",
        "        n_samples, n_features = X.shape\n",
        "        y_ = np.where(y == 0, -1, 1)  # Correct mapping: 0 -> -1, 1 -> 1 for training\n",
        "\n",
        "        self.w = np.zeros(n_features)\n",
        "        self.b = 0\n",
        "\n",
        "        for _ in range(self.n_iters):\n",
        "            for idx, x_i in enumerate(X):\n",
        "                condition = y_[idx] * (np.dot(x_i, self.w) - self.b) >= 1\n",
        "                if condition:\n",
        "                    self.w -= self.learning_rate * (2 * self.lambda_param * self.w)\n",
        "                else:\n",
        "                    self.w -= self.learning_rate * (2 * self.lambda_param * self.w - np.dot(x_i, y_[idx]))\n",
        "                    self.b -= self.learning_rate * y_[idx]\n",
        "\n",
        "    def predict(self, X):\n",
        "        # Predict the class label based on the sign of the decision boundary\n",
        "        linear_output = np.dot(X, self.w) - self.b\n",
        "        return np.sign(linear_output)\n"
      ],
      "metadata": {
        "id": "3_AJ1n9cEcHe"
      },
      "execution_count": 2,
      "outputs": []
    },
    {
      "cell_type": "code",
      "source": [
        "# Load data function to read the dataset and split it into training, validation, and test sets\n",
        "def load_data():\n",
        "    with open('rt-polarity.pos', 'r', encoding='latin-1') as pos_file, open('rt-polarity.neg', 'r', encoding='latin-1') as neg_file:\n",
        "        positive_sentences = pos_file.readlines()\n",
        "        negative_sentences = neg_file.readlines()\n",
        "\n",
        "    # Create labels: 1 for positive, 0 for negative\n",
        "    positive_labels = [1] * len(positive_sentences)\n",
        "    negative_labels = [0] * len(negative_sentences)\n",
        "\n",
        "    # Create DataFrames for easy manipulation\n",
        "    pos_df = pd.DataFrame({'text': positive_sentences, 'label': positive_labels})\n",
        "    neg_df = pd.DataFrame({'text': negative_sentences, 'label': negative_labels})\n",
        "\n",
        "    # Split data into training, validation, and test sets\n",
        "    train_data = pd.concat([pos_df[:4000], neg_df[:4000]]).sample(frac=1, random_state=42).reset_index(drop=True)\n",
        "    val_data = pd.concat([pos_df[4000:4500], neg_df[4000:4500]])\n",
        "    test_data = pd.concat([pos_df[4500:], neg_df[4500:]])\n",
        "\n",
        "    return train_data, val_data, test_data\n"
      ],
      "metadata": {
        "id": "2dgNxsnwEds8"
      },
      "execution_count": 3,
      "outputs": []
    },
    {
      "cell_type": "code",
      "source": [
        "# Feature extraction using TF-IDF\n",
        "def feature_extraction(train_data, val_data, test_data):\n",
        "    vectorizer = TfidfVectorizer(max_features=5000)\n",
        "\n",
        "    X_train = vectorizer.fit_transform(train_data['text']).toarray()\n",
        "    X_val = vectorizer.transform(val_data['text']).toarray()\n",
        "    X_test = vectorizer.transform(test_data['text']).toarray()\n",
        "\n",
        "    y_train = train_data['label'].values\n",
        "    y_val = val_data['label'].values\n",
        "    y_test = test_data['label'].values\n",
        "\n",
        "    return X_train, y_train, X_val, y_val, X_test, y_test\n"
      ],
      "metadata": {
        "id": "WC1czjSrEfm6"
      },
      "execution_count": 4,
      "outputs": []
    },
    {
      "cell_type": "code",
      "source": [
        "def main():\n",
        "    train_data, val_data, test_data = load_data()\n",
        "\n",
        "    X_train, y_train, X_val, y_val, X_test, y_test = feature_extraction(train_data, val_data, test_data)\n",
        "\n",
        "    svm_model = SVM(learning_rate=0.001, lambda_param=0.01, n_iters=1000)\n",
        "    svm_model.fit(X_train, y_train)\n",
        "\n",
        "    y_pred_val = svm_model.predict(X_val)\n",
        "\n",
        "    y_pred_val = np.where(y_pred_val == -1, 0, y_pred_val)\n",
        "\n",
        "    print(\"Validation Results:\")\n",
        "    print(classification_report(y_val, y_pred_val, zero_division=1))\n",
        "\n",
        "    y_pred_test = svm_model.predict(X_test)\n",
        "\n",
        "    y_pred_test = np.where(y_pred_test == -1, 0, y_pred_test)\n",
        "\n",
        "    print(\"Test Results:\")\n",
        "    print(classification_report(y_test, y_pred_test, zero_division=1))\n",
        "\n",
        "if __name__ == \"__main__\":\n",
        "    main()\n"
      ],
      "metadata": {
        "colab": {
          "base_uri": "https://localhost:8080/"
        },
        "id": "iBxHJD8gEi8t",
        "outputId": "31778c50-672c-4c5f-ca24-2d50945283fe"
      },
      "execution_count": 6,
      "outputs": [
        {
          "output_type": "stream",
          "name": "stdout",
          "text": [
            "Validation Results:\n",
            "              precision    recall  f1-score   support\n",
            "\n",
            "           0       0.70      0.63      0.67       500\n",
            "           1       0.67      0.73      0.70       500\n",
            "\n",
            "    accuracy                           0.68      1000\n",
            "   macro avg       0.68      0.68      0.68      1000\n",
            "weighted avg       0.68      0.68      0.68      1000\n",
            "\n",
            "Test Results:\n",
            "              precision    recall  f1-score   support\n",
            "\n",
            "           0       0.72      0.66      0.69       831\n",
            "           1       0.69      0.74      0.71       831\n",
            "\n",
            "    accuracy                           0.70      1662\n",
            "   macro avg       0.70      0.70      0.70      1662\n",
            "weighted avg       0.70      0.70      0.70      1662\n",
            "\n"
          ]
        }
      ]
    }
  ]
}